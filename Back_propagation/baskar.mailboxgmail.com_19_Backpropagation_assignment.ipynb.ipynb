{
 "cells": [
  {
   "cell_type": "markdown",
   "metadata": {
    "colab_type": "text",
    "id": "y871RZtRhCEH"
   },
   "source": [
    "# <font color='red'>BackPropagation</font>"
   ]
  },
  {
   "cell_type": "markdown",
   "metadata": {
    "colab_type": "text",
    "id": "LqePYi-4mFvK"
   },
   "source": [
    "**There will be some functions that start with the word \"grader\" ex: grader_sigmoid(), grader_forwardprop(), grader_backprop() etc, you should not change those function definition.<br><br>Every Grader function has to return True.**"
   ]
  },
  {
   "cell_type": "markdown",
   "metadata": {
    "colab_type": "text",
    "id": "0huUQ0byiI0I"
   },
   "source": [
    "## <font color='red'>Loading data </font>"
   ]
  },
  {
   "cell_type": "code",
   "execution_count": 1,
   "metadata": {
    "colab": {
     "base_uri": "https://localhost:8080/",
     "height": 50
    },
    "colab_type": "code",
    "id": "1hSje5CBgcUb",
    "outputId": "66535fa5-f8a2-4792-bc62-7842c93480f7"
   },
   "outputs": [
    {
     "name": "stdout",
     "output_type": "stream",
     "text": [
      "(506, 6)\n",
      "(506, 5) (506,)\n"
     ]
    }
   ],
   "source": [
    "import pickle\n",
    "import numpy as np\n",
    "import math\n",
    "from tqdm import tqdm\n",
    "import matplotlib.pyplot as plt\n",
    "\n",
    "with open('data.pkl', 'rb') as f:\n",
    "    data = pickle.load(f)\n",
    "print(data.shape)\n",
    "X = data[:, :5]\n",
    "y = data[:, -1]\n",
    "print(X.shape, y.shape)"
   ]
  },
  {
   "cell_type": "markdown",
   "metadata": {
    "colab_type": "text",
    "id": "5JL-0soQistC"
   },
   "source": [
    "# <font color='red'>Computational graph</font>"
   ]
  },
  {
   "cell_type": "markdown",
   "metadata": {
    "colab_type": "text",
    "id": "nREnTTJ3i0Vd"
   },
   "source": [
    "<img src='https://i.imgur.com/seSGbNS.png'>"
   ]
  },
  {
   "cell_type": "markdown",
   "metadata": {
    "colab_type": "text",
    "id": "DSPX_H_4i_HT"
   },
   "source": [
    "\n",
    "*  **If you observe the graph, we are having input features [f1, f2, f3, f4, f5] and 9 weights [w1, w2, w3, w4, w5, w6,    w7, w8, w9]**.<br><br>\n",
    "*  **The final output of this graph is a value L which is computed as (Y-Y')^2** "
   ]
  },
  {
   "cell_type": "markdown",
   "metadata": {
    "colab_type": "text",
    "id": "D54eDEv6jkO4"
   },
   "source": [
    "# <font color='red'>Task 1: Implementing backpropagation and Gradient checking </font>"
   ]
  },
  {
   "cell_type": "markdown",
   "metadata": {
    "colab_type": "text",
    "id": "qocI1Vzqkod9"
   },
   "source": [
    "<font color='blue'><b>Check this video for better understanding of the computational graphs and back propagation</font>"
   ]
  },
  {
   "cell_type": "code",
   "execution_count": 2,
   "metadata": {
    "colab": {
     "base_uri": "https://localhost:8080/",
     "height": 521
    },
    "colab_type": "code",
    "id": "Wb5WMdwJinlX",
    "outputId": "b10489ec-890a-445a-c6a4-a3e0ea2a66be"
   },
   "outputs": [
    {
     "data": {
      "image/jpeg": "[encoded data removed]",
      "text/html": [
       "\n",
       "        <iframe\n",
       "            width=\"1000\"\n",
       "            height=\"500\"\n",
       "            src=\"https://www.youtube.com/embed/i94OvYb6noo\"\n",
       "            frameborder=\"0\"\n",
       "            allowfullscreen\n",
       "        ></iframe>\n",
       "        "
      ],
      "text/plain": [
       "<IPython.lib.display.YouTubeVideo at 0x263c6086898>"
      ]
     },
     "execution_count": 2,
     "metadata": {},
     "output_type": "execute_result"
    }
   ],
   "source": [
    "from IPython.display import YouTubeVideo\n",
    "YouTubeVideo('i94OvYb6noo',width=\"1000\",height=\"500\")"
   ]
  },
  {
   "cell_type": "markdown",
   "metadata": {
    "colab_type": "text",
    "id": "2jecTyVRlh-6"
   },
   "source": [
    "\n",
    "*  <b>Write two functions<br>\n",
    "    *  Forward propagation</b>(Write your code in<font color='blue'> def forward_propagation()</b></font>)<br><br>\n",
    "    For easy debugging, we will break the computational graph into 3 parts.\n",
    "\n",
    "    <font color='green'><b>Part 1</b></font></b>\n",
    "    <img src='https://i.imgur.com/0xUaxy6.png'><br><br>\n",
    "    <font color='green'><b>Part 2</b></font></b><br>\n",
    "    <img src='https://i.imgur.com/J29pAJL.png'><br><br>\n",
    "    <font color='green'><b>Part 3</b></font></b>\n",
    "    <img src='https://i.imgur.com/vMyCsd9.png'>\n",
    "\n",
    "    <pre>\n",
    "    <font color='green'>\n",
    "def forward_propagation(X, y, W):\n",
    "        <font color='grey'>\n",
    "        # X: input data point, note that in this assignment you are having 5-d data points\n",
    "        # y: output varible\n",
    "        # W: weight array, its of length 9, W[0] corresponds to w1 in graph, W[1] corresponds to w2 in graph, <br>         ..., W[8] corresponds to w9 in graph.  \n",
    "        # you have to return the following variables\n",
    "        # exp= part1 (compute the forward propagation until exp and then store the values in exp)\n",
    "        # tanh =part2(compute the forward propagation until tanh and then store the values in tanh)\n",
    "        # sig = part3(compute the forward propagation until sigmoid and then store the values in sig)\n",
    "        # now compute remaining values from computional graph and get y'\n",
    "        # write code to compute the value of L=(y-y')^2\n",
    "        # compute derivative of L  w.r.to Y' and store it in dl\n",
    "        # Create a dictionary to store all the intermediate values\n",
    "        # store L, exp,tanh,sig,dl variables\n",
    "        </font>\n",
    "        return (dictionary, which you might need to use for back propagation)\n",
    "        <font color='grey'>\n",
    "        </font>\n",
    "</font>\n",
    "</pre>\n",
    "    *  <b>Backward propagation</b>(Write your code in<font color='blue'> def backward_propagation()</b></font>)\n",
    "    </b>\n",
    "    <pre>\n",
    "    <font color='green'>\n",
    "    def backward_propagation(L, W,dictionary):\n",
    "        <font color='grey'>\n",
    "        # L: the loss we calculated for the current point\n",
    "        # dictionary: the outputs of the forward_propagation() function\n",
    "        # write code to compute the gradients of each weight [w1,w2,w3,...,w9]\n",
    "        # Hint: you can use dict type to store the required variables \n",
    "        # return dW, dW is a dictionary with gradients of all the weights\n",
    "        </font>\n",
    "        return dW\n",
    "        </font>\n",
    "</font>\n",
    "</pre>"
   ]
  },
  {
   "cell_type": "markdown",
   "metadata": {
    "colab_type": "text",
    "id": "STS4NrQQc6OH"
   },
   "source": [
    " ## <font color='red'>Gradient clipping</font>"
   ]
  },
  {
   "cell_type": "markdown",
   "metadata": {
    "colab_type": "text",
    "id": "XY7ivRNzdPok"
   },
   "source": [
    "<b> Check this  <a href='https://towardsdatascience.com/how-to-debug-a-neural-network-with-gradient-checking-41deec0357a9'>blog link</a> for more details on Gradient clipping"
   ]
  },
  {
   "cell_type": "markdown",
   "metadata": {
    "colab_type": "text",
    "id": "BrsfpDoidtZ5"
   },
   "source": [
    " we know that the derivative of any function is\n",
    " \n",
    " $$\\lim_{\\epsilon\\to0}\\frac{f(x+\\epsilon)-f(x-\\epsilon)}{2\\epsilon}$$\n"
   ]
  },
  {
   "cell_type": "markdown",
   "metadata": {
    "colab_type": "text",
    "id": "vUcmt0kPd02f"
   },
   "source": [
    "*  The definition above can be used as a numerical approximation of the derivative. Taking an epsilon small enough, the calculated approximation will have an error in the range of epsilon squared. \n",
    "\n",
    "*  In other words, if epsilon is 0.001, the approximation will be off by 0.00001.\n",
    "\n",
    "Therefore, we can use this to approximate the gradient, and in turn make sure that backpropagation is implemented properly. This forms the basis of <b>gradient checking!</b>"
   ]
  },
  {
   "cell_type": "markdown",
   "metadata": {
    "colab_type": "text",
    "id": "pFSu16KCeU0x"
   },
   "source": [
    "## <Font color='blue'>Gradient checking example</font>"
   ]
  },
  {
   "cell_type": "markdown",
   "metadata": {
    "colab_type": "text",
    "id": "Gz0mmT_xecfC"
   },
   "source": [
    "<font >\n",
    "lets understand the concept with a simple example:\n",
    "$f(w1,w2,x1,x2)=w_{1}^{2} . x_{1} + w_{2} . x_{2}$ \n",
    "\n",
    "from the above function , lets assume $w_{1}=1$, $w_{2}=2$, $x_{1}=3$, $x_{2}=4$ the gradient of $f$ w.r.t $w_{1}$ is\n",
    "\n",
    "\\begin{array} {lcl}\n",
    "\\frac{df}{dw_{1}} = dw_{1} &=&2.w_{1}.x_{1} \\\\& = &2.1.3\\\\& = &6\n",
    "\\end{array}\n",
    "\n",
    "\n",
    "let calculate the aproximate gradient of $w_{1}$ as mentinoned in the above formula and considering $\\epsilon=0.0001$\n",
    "\n",
    "\\begin{array} {lcl}\n",
    "dw_1^{approx} & = & \\frac{f(w1+\\epsilon,w2,x1,x2)-f(w1-\\epsilon,w2,x1,x2)}{2\\epsilon} \\\\ & = & \\frac{((1+0.0001)^{2} . 3 + 2 . 4) - ((1-0.0001)^{2} . 3 + 2 . 4)}{2\\epsilon} \\\\ & = & \\frac{(1.00020001 . 3 + 2 . 4) - (0.99980001. 3 + 2 . 4)}{2*0.0001} \\\\ & = & \\frac{(11.00060003) - (10.99940003)}{0.0002}\\\\ & = & 5.99999999999\n",
    "\\end{array}\n",
    "\n",
    "Then, we apply the following formula for gradient check: <i>gradient_check</i> = \n",
    "$\\frac{\\left\\Vert\\left (dW-dW^{approx}\\rm\\right) \\right\\Vert_2}{\\left\\Vert\\left (dW\\rm\\right) \\right\\Vert_2+\\left\\Vert\\left (dW^{approx}\\rm\\right) \\right\\Vert_2}$\n",
    "\n",
    "The equation above is basically the Euclidean distance normalized by the sum of the norm of the vectors. We use normalization in case that one of the vectors is very small.\n",
    "As a value for epsilon, we usually opt for 1e-7. Therefore, if gradient check return a value less than 1e-7, then it means that backpropagation was implemented correctly. Otherwise, there is potentially a mistake in your implementation. If the value exceeds 1e-3, then you are sure that the code is not correct.\n",
    "\n",
    "in our example: <i>gradient_check</i> $ = \\frac{(6 - 5.999999999994898)}{(6 + 5.999999999994898)} = 4.2514140356330737e^{-13}$\n",
    "\n",
    "you can mathamatically derive the same thing like this\n",
    "\n",
    "\\begin{array} {lcl}\n",
    "dw_1^{approx} & = & \\frac{f(w1+\\epsilon,w2,x1,x2)-f(w1-\\epsilon,w2,x1,x2)}{2\\epsilon} \\\\ & = & \\frac{((w_{1}+\\epsilon)^{2} . x_{1} + w_{2} . x_{2}) - ((w_{1}-\\epsilon)^{2} . x_{1} + w_{2} . x_{2})}{2\\epsilon} \\\\ & = & \\frac{4. \\epsilon.w_{1}. x_{1}}{2\\epsilon} \\\\ & = &  2.w_{1}.x_{1}\n",
    "\\end{array}\n"
   ]
  },
  {
   "cell_type": "markdown",
   "metadata": {
    "colab_type": "text",
    "id": "f1BFQQaCermK"
   },
   "source": [
    "## <font color='red'> Implement Gradient checking </font> <br>\n",
    " (Write your code in <font color='blue'> def gradient_checking()</font>)"
   ]
  },
  {
   "cell_type": "markdown",
   "metadata": {
    "colab_type": "text",
    "id": "GqpfA3AqfJba"
   },
   "source": [
    "**Algorithm** \n",
    "\n"
   ]
  },
  {
   "cell_type": "markdown",
   "metadata": {
    "colab_type": "text",
    "id": "FL39KeRFfNoD"
   },
   "source": [
    "<pre>\n",
    "<font color='darkblue'>\n",
    "W = initilize_randomly\n",
    "def gradient_checking(data_point, W):<font color='grey'>\n",
    "    # compute the L value using forward_propagation()\n",
    "    # compute the gradients of W using backword_propagation()</font>\n",
    "    approx_gradients = []\n",
    "    for each wi weight value in W:<font color='grey'>\n",
    "        # add a small value to weight wi, and then find the values of L with the updated weights\n",
    "        # subtract a small value to weight wi, and then find the values of L with the updated weights\n",
    "        # compute the approximation gradients of weight wi</font>\n",
    "        approx_gradients.append(approximation gradients of weight wi)<font color='grey'>\n",
    "    # compare the gradient of weights W from backword_propagation() with the aproximation gradients of weights with <br>  gradient_check formula</font>\n",
    "    return gradient_check</font>\n",
    "<b>NOTE: you can do sanity check by checking all the return values of gradient_checking(),<br> they have to be zero. if not you have bug in your code\n",
    "</pre></b>"
   ]
  },
  {
   "cell_type": "markdown",
   "metadata": {
    "colab_type": "text",
    "id": "0ufbFBFfhgL0"
   },
   "source": [
    "# <font color='red'> Task 2 : Optimizers </font>"
   ]
  },
  {
   "cell_type": "markdown",
   "metadata": {
    "colab_type": "text",
    "id": "7zt05soYh1RM"
   },
   "source": [
    "* As a part of this task, you will be implementing 3 type of optimizers(methods to update weight)\n",
    "* Use the same computational graph that was mentioned above to do this task\n",
    "* Initilze the 9 weights from normal distribution with mean=0 and std=0.01"
   ]
  },
  {
   "cell_type": "markdown",
   "metadata": {
    "colab_type": "text",
    "id": "CAyi7aSAicbr"
   },
   "source": [
    "**Check below video and <a href='https://cs231n.github.io/neural-networks-3/'>this</a> blog**"
   ]
  },
  {
   "cell_type": "code",
   "execution_count": 3,
   "metadata": {
    "colab": {
     "base_uri": "https://localhost:8080/",
     "height": 521
    },
    "colab_type": "code",
    "id": "ZogcxiegkQpz",
    "outputId": "9b4e0235-e638-4f20-d9c1-ac3ca4fb3ce8"
   },
   "outputs": [
    {
     "data": {
      "image/jpeg": "[encoded data removed]",
      "text/html": [
       "\n",
       "        <iframe\n",
       "            width=\"1000\"\n",
       "            height=\"500\"\n",
       "            src=\"https://www.youtube.com/embed/gYpoJMlgyXA\"\n",
       "            frameborder=\"0\"\n",
       "            allowfullscreen\n",
       "        ></iframe>\n",
       "        "
      ],
      "text/plain": [
       "<IPython.lib.display.YouTubeVideo at 0x263c6086208>"
      ]
     },
     "execution_count": 3,
     "metadata": {},
     "output_type": "execute_result"
    }
   ],
   "source": [
    "from IPython.display import YouTubeVideo\n",
    "YouTubeVideo('gYpoJMlgyXA',width=\"1000\",height=\"500\")"
   ]
  },
  {
   "cell_type": "markdown",
   "metadata": {
    "colab_type": "text",
    "id": "jmefh7ktjbaR"
   },
   "source": [
    "<font color='blue'><b>Algorithm</b>"
   ]
  },
  {
   "cell_type": "markdown",
   "metadata": {
    "colab_type": "text",
    "id": "nAc4NudkjdNa"
   },
   "source": [
    "<pre>\n",
    "    for each epoch(1-100):\n",
    "        for each data point in your data:\n",
    "            using the functions forward_propagation() and backword_propagation() compute the gradients of weights\n",
    "            update the weigts with help of gradients  ex: w1 = w1-learning_rate*dw1\n",
    "</pre>"
   ]
  },
  {
   "cell_type": "markdown",
   "metadata": {
    "colab_type": "text",
    "id": "_fdmPNqtjm3X"
   },
   "source": [
    "## <font color='red'> Implement below tasks</b>"
   ]
  },
  {
   "cell_type": "markdown",
   "metadata": {
    "colab_type": "text",
    "id": "Ll9-CRsLjx_D"
   },
   "source": [
    "\n",
    "*  <b>Task 2.1</b>: you will be implementing the above algorithm with <b>Vanilla update</b> of weights<br><br>\n",
    "*  <b>Task 2.2</b>: you will be implementing the above algorithm with <b>Momentum update</b> of weights<br><br>\n",
    "*  <b>Task 2.3</b>: you will be implementing the above algorithm with <b>Adam update</b> of weights\n"
   ]
  },
  {
   "cell_type": "markdown",
   "metadata": {
    "colab_type": "text",
    "id": "atp082demrUR"
   },
   "source": [
    "**Note : If you get any assertion error while running grader functions, please print the variables in grader functions and check which variable is returning False .Recheck your logic for that variable .**"
   ]
  },
  {
   "cell_type": "markdown",
   "metadata": {
    "colab_type": "text",
    "id": "phG2WDkjkuIL"
   },
   "source": [
    "<br>\n",
    "<br>\n",
    "<br>"
   ]
  },
  {
   "cell_type": "markdown",
   "metadata": {
    "colab_type": "text",
    "id": "CBaPzHP63grG"
   },
   "source": [
    "# <font color='red'>Task 1 </font>"
   ]
  },
  {
   "cell_type": "markdown",
   "metadata": {
    "colab_type": "text",
    "id": "QfmV3FUgSrBo"
   },
   "source": [
    "## <font color='blue'>Forward propagation </font>"
   ]
  },
  {
   "cell_type": "code",
   "execution_count": 4,
   "metadata": {
    "colab": {},
    "colab_type": "code",
    "id": "5_pBivcY30qf"
   },
   "outputs": [],
   "source": [
    "def sigmoid(activation):\n",
    "    '''In this function, we will compute the sigmoid(z)'''\n",
    "    # we can use this function in forward and backward propagation\n",
    "    \n",
    "    return 1 / (1 + np.exp(-activation))\n",
    "    \n",
    "def forward_propagation(x, y,Weights):\n",
    "        '''In this function, we will compute the forward propagation '''\n",
    "        # X: input data point, note that in this assignment you are having 5-d data points\n",
    "        # y: output varible\n",
    "        # W: weight array, its of length 9, W[0] corresponds to w1 in graph, W[1] corresponds to w2 in graph,..., W[8] corresponds to w9 in graph.  \n",
    "        # you have to return the following variables\n",
    "        # exp= part1 (compute the forward propagation until exp and then store the values in exp)\n",
    "        # tanh =part2(compute the forward propagation until tanh and then store the values in tanh)\n",
    "        # sig = part3(compute the forward propagation until sigmoid and then store the values in sig)\n",
    "        # now compute remaining values from computional graph and get y'\n",
    "        # write code to compute the value of L=(y-y')^2\n",
    "        # compute derivative of L  w.r.to Y' and store it in dl\n",
    "        # Create a dictionary to store all the intermediate values\n",
    "        # store L, exp,tanh,sig variables\n",
    "        \n",
    "        activation1 =(Weights[0] * X[0][0] + Weights[1] * X[0][1]) * (Weights[0] * X[0][0] + Weights[1] * X[0][1]) \n",
    "        activation1 = activation1 + Weights[5]\n",
    "        Exp = np.exp(activation1)\n",
    "        #Exp_derv = np.exp(activation1)\n",
    "        activation2 = Exp + Weights[6]\n",
    "        Tanh = np.tanh(activation2)\n",
    "        #Tanh_derv=1-np.tanh(activation2)**2\n",
    "        activation3 =(Weights[2] * X[0][2])\n",
    "        sin=math.sin(activation3)\n",
    "        #sin_derv=np.cos(activation3)\n",
    "        #activation4 =(Weights[4] * X[0][4] + Weights[5] * X[0][4])\n",
    "        activation4 =(Weights[3] * X[0][3] + Weights[4] * X[0][4])\n",
    "        activation5=(activation4 * sin) + Weights[7]\n",
    "        Sig= sigmoid(activation5)\n",
    "        #Sig_derv= sigmoid(activation5) * (1-sigmoid(activation5))\n",
    "        y_=(Sig * Weights[8]) + Tanh\n",
    "        loss = ((y-y_)**2)\n",
    "        dl = -2 * (y-y_)      \n",
    "        list_var =['loss','exp','tanh','sigmoid','dl','sin']\n",
    "        list_values=[loss,Exp,Tanh,Sig,dl,sin]\n",
    "                \n",
    "        dict_forward_prop = dict(zip(list_var, list_values))        \n",
    "        return (dict(dict_forward_prop))"
   ]
  },
  {
   "cell_type": "markdown",
   "metadata": {
    "colab_type": "text",
    "id": "z-z1rGKqCHNN"
   },
   "source": [
    "<font color='cyan'>Grader function - 1</font>"
   ]
  },
  {
   "cell_type": "code",
   "execution_count": 5,
   "metadata": {
    "colab": {},
    "colab_type": "code",
    "id": "6ZxFF00zBmx1"
   },
   "outputs": [
    {
     "data": {
      "text/plain": [
       "True"
      ]
     },
     "execution_count": 5,
     "metadata": {},
     "output_type": "execute_result"
    }
   ],
   "source": [
    "def grader_sigmoid(z):\n",
    "    val=sigmoid(z)\n",
    "    assert(val==0.8807970779778823)\n",
    "    return True\n",
    "grader_sigmoid(2)"
   ]
  },
  {
   "cell_type": "markdown",
   "metadata": {
    "colab_type": "text",
    "id": "KgAUXq_aChey"
   },
   "source": [
    "<font color='cyan'>Grader function - 2 </font>"
   ]
  },
  {
   "cell_type": "code",
   "execution_count": 6,
   "metadata": {
    "colab": {},
    "colab_type": "code",
    "id": "3uzsUqcjCorN"
   },
   "outputs": [
    {
     "name": "stdout",
     "output_type": "stream",
     "text": [
      "{'loss': 0.9298048963072919, 'exp': 1.1272967040973583, 'tanh': 0.8417934192562146, 'sigmoid': 0.5279179387419721, 'dl': -1.9285278284819143, 'sin': -0.14538296400984968}\n"
     ]
    },
    {
     "data": {
      "text/plain": [
       "True"
      ]
     },
     "execution_count": 6,
     "metadata": {},
     "output_type": "execute_result"
    }
   ],
   "source": [
    "def grader_forwardprop(data):\n",
    "    dl = (np.round(data['dl'],4)==-1.9285)\n",
    "    loss=(np.round(data['loss'],4)==0.9298)\n",
    "    part1=(np.round(data['exp'],4)==1.1273)\n",
    "    part2=(np.round(data['tanh'],4)==0.8418)\n",
    "    part3=(np.round(data['sigmoid'],4)==0.5279)\n",
    "    assert(dl and loss and part1 and part2 and part3)\n",
    "    return True\n",
    "w=np.ones(9)*0.1\n",
    "d1=forward_propagation(X[0],y[0],w)\n",
    "print(d1)\n",
    "grader_forwardprop(d1)"
   ]
  },
  {
   "cell_type": "markdown",
   "metadata": {
    "colab_type": "text",
    "id": "obOaAqj3Sxvb"
   },
   "source": [
    "## <font color='blue'>Backward propagation</font>"
   ]
  },
  {
   "cell_type": "code",
   "execution_count": 7,
   "metadata": {
    "colab": {},
    "colab_type": "code",
    "id": "dS49ykcOGhIv"
   },
   "outputs": [],
   "source": [
    "def backward_propagation(x,Weights,dict_forward_prop,y):\n",
    "    '''In this function, we will compute the backward propagation '''\n",
    "    # L: the loss we calculated for the current point\n",
    "    # dictionary: the outputs of the forward_propagation() function\n",
    "    # write code to compute the gradients of each weight [w1,w2,w3,...,w9]\n",
    "    # Hint: you can use dict type to store the required variables \n",
    "    # dw1 = # in dw1 compute derivative of L w.r.to w1\n",
    "    # dw2 = # in dw2 compute derivative of L w.r.to w2\n",
    "    # dw3 = # in dw3 compute derivative of L w.r.to w3\n",
    "    # dw4 = # in dw4 compute derivative of L w.r.to w4\n",
    "    # dw5 = # in dw5 compute derivative of L w.r.to w5\n",
    "    # dw6 = # in dw6 compute derivative of L w.r.to w6\n",
    "    # dw7 = # in dw7 compute derivative of L w.r.to w7\n",
    "    # dw8 = # in dw8 compute derivative of L w.r.to w8\n",
    "    # dw9 = # in dw9 compute derivative of L w.r.to w9\n",
    "    p=Weights[0] * X[0][0] + Weights[1] * X[0][1]\n",
    "    q=Weights[0] * X[0][0] + Weights[1] * X[0][1]\n",
    "    i = p * q \n",
    "    h= i + Weights[5]\n",
    "    a = np.exp(h)\n",
    "    Exp=a\n",
    "    Exp_derv = np.exp(h)\n",
    "    b = a + Weights[6]\n",
    "    c=np.tanh(b)\n",
    "    Tanh=c\n",
    "    Tanh_derv=1-np.tanh(b)**2\n",
    "    k=(Weights[2] * X[0][2])\n",
    "    j=np.sin(k)\n",
    "    Sin=j\n",
    "    Sin_derv=np.cos(k)\n",
    "    n =(Weights[4] * X[0][3])\n",
    "    o =(Weights[5] * X[0][4])\n",
    "    m=n+o\n",
    "    g=j*m\n",
    "    f=g + Weights[7]\n",
    "    d= sigmoid(f)\n",
    "    sig=d\n",
    "    Sig_derv= sigmoid(f) * (1-sigmoid(f))\n",
    "    e=d*Weights[8]\n",
    "    y_=e+c\n",
    "    dl = -1*(2 * (y-y_)) \n",
    "    dw1=float(dl*Tanh_derv*Exp_derv*(q*X[0][0]+p*X[0][0]))\n",
    "    dw2=float(dl*Tanh_derv*Exp_derv*(q*X[0][1]+p*X[0][1]))\n",
    "    dw3=float(dl*Weights[8]*Sig_derv*m*Sin_derv*X[0][2])\n",
    "    dw4=float(dl*Weights[8]*Sig_derv*j*X[0][3])\n",
    "    dw5=float(dl*Weights[8]*Sig_derv*j*X[0][4])\n",
    "    dw6=float(dl*Tanh_derv*Exp_derv)\n",
    "    dw7=float(dl*Tanh_derv)\n",
    "    dw8=float(dl*Weights[8]*Sig_derv)\n",
    "    dw9=float(dl*d)\n",
    "    list_values1=[]\n",
    "    list_var1 =['dw1','dw2','dw3','dw4','dw5','dw6','dw7','dw8','dw9']\n",
    "    list_values1=[dw1,dw2,dw3,dw4,dw5,dw6,dw7,dw8,dw9]\n",
    "    dict_back_prop = dict(zip(list_var1, list_values1))\n",
    "    return dict(dict_back_prop)"
   ]
  },
  {
   "cell_type": "markdown",
   "metadata": {
    "colab_type": "text",
    "id": "2NpZWAVlS4jb"
   },
   "source": [
    "<font color='cyan'>Grader function - 3 </font>"
   ]
  },
  {
   "cell_type": "code",
   "execution_count": 8,
   "metadata": {
    "colab": {},
    "colab_type": "code",
    "id": "1a8Kll2xGhMJ"
   },
   "outputs": [
    {
     "data": {
      "text/plain": [
       "True"
      ]
     },
     "execution_count": 8,
     "metadata": {},
     "output_type": "execute_result"
    }
   ],
   "source": [
    "def grader_backprop(data):\n",
    "    dw1=(np.round(data['dw1'],4)==-0.2297)\n",
    "    dw2=(np.round(data['dw2'],4)==-0.0214)\n",
    "    dw3=(np.round(data['dw3'],4)==-0.0056)\n",
    "    dw4=(np.round(data['dw4'],4)==-0.0047)\n",
    "    dw5=(np.round(data['dw5'],4)==-0.001)\n",
    "    dw6=(np.round(data['dw6'],4)==-0.6335)\n",
    "    dw7=(np.round(data['dw7'],4)==-0.5619)\n",
    "    dw8=(np.round(data['dw8'],4)==-0.0481)\n",
    "    dw9=(np.round(data['dw9'],4)==-1.0181)\n",
    "    assert(dw1 and dw2 and dw3 and dw4 and dw5 and dw6 and dw7 and dw8 and dw9)\n",
    "    return True \n",
    "w=np.ones(9)*0.1\n",
    "d1=forward_propagation(X[0],y[0],w)\n",
    "d1=backward_propagation(X[0],w,d1,y[0])\n",
    "grader_backprop(d1)"
   ]
  },
  {
   "cell_type": "markdown",
   "metadata": {
    "colab_type": "text",
    "id": "1rfHHXZwgwo6"
   },
   "source": [
    "## <font color='blue'> Implement gradient checking</font>"
   ]
  },
  {
   "cell_type": "code",
   "execution_count": 9,
   "metadata": {
    "colab": {},
    "colab_type": "code",
    "id": "oh8wj1yjGhOi"
   },
   "outputs": [
    {
     "name": "stdout",
     "output_type": "stream",
     "text": [
      "1.0370728946337426e-08 The gradient is correct!\n",
      "8.174982888388155e-11 The gradient is correct!\n",
      "1.7287700041112022e-09 The gradient is correct!\n",
      "1.87486944153289e-12 The gradient is correct!\n",
      "4.2849738752544037e-10 The gradient is correct!\n",
      "7.610196933782967e-10 The gradient is correct!\n",
      "3.1480030084674753e-09 The gradient is correct!\n",
      "4.0368014625577295e-10 The gradient is correct!\n",
      "3.361951351774315e-13 The gradient is correct!\n"
     ]
    }
   ],
   "source": [
    "def gradient_checking(x,y,W1):\n",
    "    # compute the L value using forward_propagation()\n",
    "    # compute the gradients of W using backword_propagation()\n",
    "    D_forward=forward_propagation(x,y,W1)\n",
    "    D_back_prop_grad1 = backward_propagation(x,W1,D_forward,y)\n",
    "    approx_gradients = []\n",
    "    grad_check_list=[]\n",
    "    for i,wi in enumerate(W1):\n",
    "        grad_check=0\n",
    "        Weights_forward1=W1\n",
    "        e=0.0001\n",
    "        approx_grad=0\n",
    "        Weights_forward1[i] = wi + e\n",
    "        D_forward=forward_propagation(x,y,Weights_forward1)\n",
    "        L_plus =D_forward['loss']\n",
    "        Weights_forward1=W1\n",
    "        Weights_forward1[i] = wi -e\n",
    "        D_forward=forward_propagation(x,y,Weights_forward1)\n",
    "        L_minus =D_forward['loss']\n",
    "        approx_grad=float((L_plus - L_minus)/ (2*e))\n",
    "        approx_gradients.append(approx_grad)\n",
    "        W1[i]=wi\n",
    "        # compare the gradient of weights W from backword_propagation() with the aproximation gradients of weights with gradient_check formula\n",
    "        values_back_prop = D_back_prop_grad1.values()\n",
    "        values_back_prop_list = list(values_back_prop)\n",
    "    for i in range(len(approx_gradients)):\n",
    "        numerator = np.linalg.norm(values_back_prop_list[i] - approx_gradients[i]) \n",
    "        denominator = np.linalg.norm(values_back_prop_list[i]) + np.linalg.norm(approx_gradients[i])  \n",
    "        difference = numerator / denominator \n",
    "        if difference < 1e-7:\n",
    "            print(\"{} The gradient is correct!\".format(difference))\n",
    "        else:\n",
    "            print(\"The gradient is wrong!\".format(difference))\n",
    "    return\n",
    "W1=np.ones(9)*0.1\n",
    "x=X[:1]\n",
    "y_1=y[:1]\n",
    "gradient_checking(x,y_1,W1)"
   ]
  },
  {
   "cell_type": "markdown",
   "metadata": {
    "colab_type": "text",
    "id": "MhwDSe99kJ32"
   },
   "source": [
    "# <font color='red'>Task 2: Optimizers"
   ]
  },
  {
   "cell_type": "markdown",
   "metadata": {
    "colab_type": "text",
    "id": "jJzI-vnPk1dB"
   },
   "source": [
    "#### Algorithm with Vanilla update of weights"
   ]
  },
  {
   "cell_type": "code",
   "execution_count": 10,
   "metadata": {
    "colab": {},
    "colab_type": "code",
    "id": "xJspU6ZuGhRQ"
   },
   "outputs": [],
   "source": [
    "def vanilla_update(x, y,W,epoc,N,alpha):\n",
    "    loss_lst=[]\n",
    "    for i in tqdm(range(epoc)):\n",
    "        loss=0\n",
    "        for step in range(N):\n",
    "            # Update weights with gradient,scores\n",
    "            D_forward=forward_propagation(x[step],y[step],W)\n",
    "            D_back_prop_grad = backward_propagation(x[step],W,D_forward,y[step])\n",
    "            W[0]=W[0] - alpha * D_back_prop_grad['dw1']\n",
    "            W[1]=W[1] - alpha * D_back_prop_grad['dw2']\n",
    "            W[2]=W[2] - alpha * D_back_prop_grad['dw3']\n",
    "            W[3]=W[4] - alpha * D_back_prop_grad['dw4']\n",
    "            W[4]=W[5] - alpha * D_back_prop_grad['dw5']\n",
    "            W[5]=W[5] - alpha * D_back_prop_grad['dw6']\n",
    "            W[6]=W[6] - alpha * D_back_prop_grad['dw7']\n",
    "            W[7]=W[7] - alpha * D_back_prop_grad['dw8']\n",
    "            W[8]=W[8] - alpha * D_back_prop_grad['dw9']\n",
    "            loss=loss+D_forward['loss']\n",
    "            loss_avg=loss/len(x)\n",
    "        loss_lst.append(loss_avg)\n",
    "    return loss_lst"
   ]
  },
  {
   "cell_type": "markdown",
   "metadata": {
    "colab_type": "text",
    "id": "UlTLXrvmlR26"
   },
   "source": [
    "<font color='blue'>Plot between epochs and loss</font>"
   ]
  },
  {
   "cell_type": "code",
   "execution_count": 11,
   "metadata": {
    "colab": {},
    "colab_type": "code",
    "id": "CjTCVUIoGhTo"
   },
   "outputs": [
    {
     "name": "stderr",
     "output_type": "stream",
     "text": [
      "100%|████████████████████████████████████████████████████████████████████████████████| 100/100 [00:06<00:00, 15.26it/s]\n"
     ]
    },
    {
     "data": {
      "image/png": "[encoded data removed]",
      "text/plain": [
       "<Figure size 432x288 with 1 Axes>"
      ]
     },
     "metadata": {
      "needs_background": "light"
     },
     "output_type": "display_data"
    }
   ],
   "source": [
    "from tqdm import tqdm\n",
    "epoc=100\n",
    "N=len(X)\n",
    "W = np.random.normal(0.0, 1.0, 9) \n",
    "\n",
    "loss_lst = vanilla_update(X, y,W,epoc,N, 0.0001)\n",
    "epoc=np.arange(1,101)\n",
    "plt.plot(epoc,loss_lst,label='vanilla_update_loss')   \n",
    "plt.legend() \n",
    "plt.xlabel(\"epoc: epoc\")\n",
    "plt.ylabel(\"loss\") \n",
    "plt.title(\"epoc Vs loss plot\") \n",
    "plt.grid() \n",
    "plt.show() "
   ]
  },
  {
   "cell_type": "markdown",
   "metadata": {
    "colab_type": "text",
    "id": "cv_hZFWalS2z"
   },
   "source": [
    "####  Algorithm with momentum update of weights"
   ]
  },
  {
   "cell_type": "code",
   "execution_count": 12,
   "metadata": {
    "colab": {},
    "colab_type": "code",
    "id": "uucCdyQrGhZt"
   },
   "outputs": [],
   "source": [
    "def momentum_update(x, y,W,epoc,N,alpha):\n",
    "    loss_lst1=[]\n",
    "    for i in tqdm(range(epoc)):\n",
    "        loss1=0\n",
    "        v1,v2,v3,v4,v5,v6,v7,v8,v9=0,0,0,0,0,0,0,0,0\n",
    "        mu=0.9\n",
    "        for step in range(N):\n",
    "            # Update weights with gradient,scores\n",
    "            D_forward=forward_propagation(x[step],y[step],W)\n",
    "            D_back_prop_grad = backward_propagation(x[step],W,D_forward,y[step])\n",
    "            # Momentum update\n",
    "            v1 = mu * v1 - alpha * D_back_prop_grad['dw1'] \n",
    "            W[0] += v1\n",
    "            v2 = mu * v2 - alpha * D_back_prop_grad['dw2'] \n",
    "            W[1] += v2\n",
    "            v3 = mu * v3 - alpha * D_back_prop_grad['dw3'] \n",
    "            W[2] += v3\n",
    "            v4 = mu * v4 - alpha * D_back_prop_grad['dw4'] \n",
    "            W[3] += v4\n",
    "            v5 = mu * v5 - alpha * D_back_prop_grad['dw5'] \n",
    "            W[4] += v5\n",
    "            v6 = mu * v6 - alpha * D_back_prop_grad['dw6'] \n",
    "            W[5] += v6\n",
    "            v7 = mu * v7 - alpha * D_back_prop_grad['dw7'] \n",
    "            W[6] += v7\n",
    "            v8 = mu * v8 - alpha * D_back_prop_grad['dw8'] \n",
    "            W[7] += v8\n",
    "            v9 = mu * v9 - alpha * D_back_prop_grad['dw9'] \n",
    "            W[8] += v9\n",
    "            loss1=loss1+D_forward['loss']\n",
    "            loss_avg1=loss1/len(x)\n",
    "        loss_lst1.append(loss_avg1)\n",
    "    return loss_lst1"
   ]
  },
  {
   "cell_type": "markdown",
   "metadata": {
    "colab_type": "text",
    "id": "Ow20azfKlVhn"
   },
   "source": [
    "<font color='blue'>Plot between epochs and loss</font>"
   ]
  },
  {
   "cell_type": "code",
   "execution_count": 13,
   "metadata": {
    "colab": {},
    "colab_type": "code",
    "id": "u-m90Sq_Ghce"
   },
   "outputs": [
    {
     "name": "stderr",
     "output_type": "stream",
     "text": [
      "100%|████████████████████████████████████████████████████████████████████████████████| 100/100 [00:06<00:00, 15.20it/s]\n"
     ]
    },
    {
     "data": {
      "image/png": "[encoded data removed]",
      "text/plain": [
       "<Figure size 432x288 with 1 Axes>"
      ]
     },
     "metadata": {
      "needs_background": "light"
     },
     "output_type": "display_data"
    }
   ],
   "source": [
    "from tqdm import tqdm\n",
    "epoc=100\n",
    "N=len(X)\n",
    "W = np.random.normal(0.0, 1.0, 9) \n",
    "\n",
    "loss_lst1 = momentum_update(X, y,W,epoc,N, 0.0001)\n",
    "epoc=np.arange(1,101)\n",
    "plt.plot(epoc,loss_lst1,label='momentum_update_loss')   \n",
    "plt.legend() \n",
    "plt.xlabel(\"epoc: epoc\")\n",
    "plt.ylabel(\"loss\") \n",
    "plt.title(\"epoc Vs loss plot\") \n",
    "plt.grid() \n",
    "plt.show() "
   ]
  },
  {
   "cell_type": "markdown",
   "metadata": {
    "colab_type": "text",
    "id": "V4RWWrZ7lWap"
   },
   "source": [
    "#### Algorithm with Adam update of weights"
   ]
  },
  {
   "cell_type": "code",
   "execution_count": 14,
   "metadata": {
    "colab": {},
    "colab_type": "code",
    "id": "72rRC8rJGhf5"
   },
   "outputs": [],
   "source": [
    "def adam_update(x, y,W,epoc,N,alpha):\n",
    "    loss_lst2=[]\n",
    "    for i in tqdm(range(epoc)):\n",
    "        loss2=0\n",
    "        v1,v2,v3,v4,v5,v6,v7,v8,v9=0,0,0,0,0,0,0,0,0\n",
    "        eps = 1e-8\n",
    "        beta1 = 0.9\n",
    "        beta2 = 0.999\n",
    "        m1,m2,m3,m4,m5,m6,m7,m8,m9=0,0,0,0,0,0,0,0,0\n",
    "        for step in range(N):\n",
    "            # Update weights with gradient,scores\n",
    "            D_forward=forward_propagation(x[step],y[step],W)\n",
    "            D_back_prop_grad = backward_propagation(x[step],W,D_forward,y[step])\n",
    "            # adam update\n",
    "            m1 = beta1*m1 + (1-beta1)* D_back_prop_grad['dw1'] \n",
    "            v1 = beta2*v1 + (1-beta2)*(D_back_prop_grad['dw1'] **2)\n",
    "            W[0] += - alpha * m1 / (np.sqrt(v1) + eps)\n",
    "            m2 = beta1*m2 + (1-beta1)* D_back_prop_grad['dw2'] \n",
    "            v2 = beta2*v2 + (1-beta2)*(D_back_prop_grad['dw2'] **2)\n",
    "            W[1] += - alpha * m2 / (np.sqrt(v2) + eps)\n",
    "            m3 = beta1*m3 + (1-beta1)* D_back_prop_grad['dw3'] \n",
    "            v3 = beta2*v3 + (1-beta2)*(D_back_prop_grad['dw3'] **2)\n",
    "            W[2] += - alpha * m3 / (np.sqrt(v3) + eps)\n",
    "            m4 = beta1*m4 + (1-beta1)* D_back_prop_grad['dw4'] \n",
    "            v4 = beta2*v4 + (1-beta2)*(D_back_prop_grad['dw4'] **2)\n",
    "            W[3] += - alpha * m4 / (np.sqrt(v4) + eps)\n",
    "            m5 = beta1*m5 + (1-beta1)* D_back_prop_grad['dw5'] \n",
    "            v5 = beta2*v5 + (1-beta2)*(D_back_prop_grad['dw5'] **2)\n",
    "            W[4] += - alpha * m5 / (np.sqrt(v5) + eps)\n",
    "            m6 = beta1*m6 + (1-beta1)* D_back_prop_grad['dw6'] \n",
    "            v6 = beta2*v6 + (1-beta2)*(D_back_prop_grad['dw6'] **2)\n",
    "            W[5] += - alpha * m6 / (np.sqrt(v6) + eps)\n",
    "            m7 = beta1*m7 + (1-beta1)* D_back_prop_grad['dw7'] \n",
    "            v7 = beta2*v7 + (1-beta2)*(D_back_prop_grad['dw7'] **2)\n",
    "            W[6] += - alpha * m7 / (np.sqrt(v7) + eps)\n",
    "            m8 = beta1*m8 + (1-beta1)* D_back_prop_grad['dw8'] \n",
    "            v8 = beta2*v8 + (1-beta2)*(D_back_prop_grad['dw8'] **2)\n",
    "            W[7] += - alpha * m8 / (np.sqrt(v8) + eps)\n",
    "            m9 = beta1*m9 + (1-beta1)* D_back_prop_grad['dw9'] \n",
    "            v9 = beta2*v9 + (1-beta2)*(D_back_prop_grad['dw9'] **2)\n",
    "            W[8] += - alpha * m9 / (np.sqrt(v9) + eps)\n",
    "            \n",
    "            loss2=loss2+D_forward['loss']\n",
    "            loss_avg2=loss2/len(x)\n",
    "        loss_lst2.append(loss_avg2)\n",
    "    return loss_lst2"
   ]
  },
  {
   "cell_type": "markdown",
   "metadata": {
    "colab_type": "text",
    "id": "MMy0nBw-lXml"
   },
   "source": [
    "<font color='blue'>Plot between epochs and loss</font>"
   ]
  },
  {
   "cell_type": "code",
   "execution_count": 15,
   "metadata": {
    "colab": {},
    "colab_type": "code",
    "id": "aiFRk_uFlm2V"
   },
   "outputs": [
    {
     "name": "stderr",
     "output_type": "stream",
     "text": [
      "100%|████████████████████████████████████████████████████████████████████████████████| 100/100 [00:09<00:00, 10.76it/s]\n"
     ]
    },
    {
     "data": {
      "image/png": "[encoded data removed]",
      "text/plain": [
       "<Figure size 432x288 with 1 Axes>"
      ]
     },
     "metadata": {
      "needs_background": "light"
     },
     "output_type": "display_data"
    }
   ],
   "source": [
    "from tqdm import tqdm\n",
    "epoc=100\n",
    "N=len(X)\n",
    "W = np.random.normal(0.0, 1.0, 9) \n",
    "\n",
    "loss_lst2 = adam_update(X, y,W,epoc,N, 0.0001)\n",
    "epoc=np.arange(1,101)\n",
    "plt.plot(epoc,loss_lst2,label='adam_update_loss')   \n",
    "plt.legend() \n",
    "plt.xlabel(\"epoc: epoc\")\n",
    "plt.ylabel(\"loss\") \n",
    "plt.title(\"epoc Vs loss plot\") \n",
    "plt.grid() \n",
    "plt.show() "
   ]
  },
  {
   "cell_type": "markdown",
   "metadata": {
    "colab_type": "text",
    "id": "7627cy8YlnYO"
   },
   "source": [
    "<font color='blue'>Comparision plot between epochs and loss with different optimizers</font>"
   ]
  },
  {
   "cell_type": "code",
   "execution_count": 16,
   "metadata": {
    "colab": {},
    "colab_type": "code",
    "id": "scleSfIXl_bC"
   },
   "outputs": [
    {
     "data": {
      "image/png": "[encoded data removed]",
      "text/plain": [
       "<Figure size 432x288 with 1 Axes>"
      ]
     },
     "metadata": {
      "needs_background": "light"
     },
     "output_type": "display_data"
    }
   ],
   "source": [
    "epoc=np.arange(1,101)\n",
    "plt.plot(epoc,loss_lst,label='vanilla_update_loss')\n",
    "plt.plot(epoc,loss_lst1,label='momentum_update_loss')\n",
    "plt.plot(epoc,loss_lst2,label='adam_update_loss')   \n",
    "plt.legend() \n",
    "plt.xlabel(\"epoc: epoc\")\n",
    "plt.ylabel(\"loss\") \n",
    "plt.title(\"epoc Vs loss plot\") \n",
    "plt.grid() \n",
    "plt.show() "
   ]
  },
  {
   "cell_type": "code",
   "execution_count": null,
   "metadata": {
    "colab": {},
    "colab_type": "code",
    "id": "lfXSaOP8rjBY"
   },
   "outputs": [],
   "source": []
  },
  {
   "cell_type": "code",
   "execution_count": null,
   "metadata": {},
   "outputs": [],
   "source": []
  }
 ],
 "metadata": {
  "colab": {
   "collapsed_sections": [],
   "name": "Backpropagation assignment.ipynb",
   "provenance": []
  },
  "kernelspec": {
   "display_name": "Python 3",
   "language": "python",
   "name": "python3"
  },
  "language_info": {
   "codemirror_mode": {
    "name": "ipython",
    "version": 3
   },
   "file_extension": ".py",
   "mimetype": "text/x-python",
   "name": "python",
   "nbconvert_exporter": "python",
   "pygments_lexer": "ipython3",
   "version": "3.7.3"
  }
 },
 "nbformat": 4,
 "nbformat_minor": 1
}
